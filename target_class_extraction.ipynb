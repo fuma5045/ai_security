{
 "cells": [
  {
   "cell_type": "code",
   "execution_count": 1,
   "metadata": {},
   "outputs": [],
   "source": [
    "import os\n",
    "import numpy as np\n",
    "import tensorflow as tf\n",
    "from tensorflow import keras\n",
    "from tensorflow.keras.utils import to_categorical\n",
    "from tensorflow.keras.preprocessing.image import ImageDataGenerator, img_to_array, array_to_img, load_img\n",
    "import numpy as np\n",
    "from sklearn.model_selection import train_test_split\n",
    "from tensorflow.keras.models import Sequential\n",
    "from tensorflow.keras.layers import Input, Dense, Conv2D\n",
    "from tensorflow.keras.layers import MaxPooling2D, GlobalAveragePooling2D, Dropout\n",
    "from tensorflow.keras.layers import Conv2D, MaxPool2D, Dense, Flatten, Dropout\n",
    "tf.compat.v1.disable_eager_execution() #  Eager Execution を無効にする\n",
    "# ART 関連\n",
    "from art.attacks.evasion import ProjectedGradientDescent\n",
    "from art.estimators.classification import KerasClassifier"
   ]
  },
  {
   "cell_type": "markdown",
   "metadata": {},
   "source": [
    "##  モデルの作成"
   ]
  },
  {
   "cell_type": "code",
   "execution_count": 2,
   "metadata": {
    "scrolled": true
   },
   "outputs": [
    {
     "name": "stdout",
     "output_type": "stream",
     "text": [
      "WARNING:tensorflow:From /usr/local/lib/python3.6/dist-packages/tensorflow_core/python/ops/resource_variable_ops.py:1635: calling BaseResourceVariable.__init__ (from tensorflow.python.ops.resource_variable_ops) with constraint is deprecated and will be removed in a future version.\n",
      "Instructions for updating:\n",
      "If using Keras pass *_constraint arguments to layers.\n"
     ]
    }
   ],
   "source": [
    "robust_model = Sequential()\n",
    "robust_model.add(Conv2D(filters=32, kernel_size=3, activation='relu', input_shape=(30,30,3)))\n",
    "robust_model.add(MaxPool2D(pool_size=(2, 2)))\n",
    "robust_model.add(Dropout(rate=0.25))\n",
    "robust_model.add(Conv2D(filters=64, kernel_size=3, activation='relu'))\n",
    "robust_model.add(MaxPool2D(pool_size=(2, 2)))\n",
    "robust_model.add(Dropout(rate=0.25))\n",
    "robust_model.add(Conv2D(filters=64, kernel_size=3, activation='relu'))\n",
    "robust_model.add(Flatten())\n",
    "robust_model.add(Dense(units=64, activation='relu'))\n",
    "robust_model.add(Dense(43, activation='softmax'))\n",
    "# Compiling the model\n",
    "robust_model.compile(\n",
    "     loss='categorical_crossentropy',\n",
    "     optimizer='adam',\n",
    "     metrics=['accuracy'])"
   ]
  },
  {
   "cell_type": "markdown",
   "metadata": {},
   "source": [
    "### モデルをロードする場合は以下のプログラムを実行"
   ]
  },
  {
   "cell_type": "code",
   "execution_count": 3,
   "metadata": {},
   "outputs": [],
   "source": [
    "#モデルを読み込む場合\n",
    "#robust_model = tf.keras.models.load_model(\"モデル名を指定\")"
   ]
  },
  {
   "cell_type": "markdown",
   "metadata": {},
   "source": [
    "### テストデータの取得"
   ]
  },
  {
   "cell_type": "code",
   "execution_count": 4,
   "metadata": {},
   "outputs": [],
   "source": [
    "x_test = np.load('x_test.npy')\n",
    "y_test = np.load('y_test.npy')\n",
    "x_test = x_test/255\n",
    "y_test = np.argmax(y_test,axis=1)\n",
    "classifier= KerasClassifier(model=robust_model, clip_values=(0, 1))"
   ]
  },
  {
   "cell_type": "markdown",
   "metadata": {},
   "source": [
    "### 対象クラスの抽出"
   ]
  },
  {
   "cell_type": "code",
   "execution_count": 5,
   "metadata": {},
   "outputs": [],
   "source": [
    "target_class = []\n",
    "error_ratios = []\n",
    "attack = ProjectedGradientDescent(classifier,eps=(8/255), eps_step=(2/255), max_iter=10, batch_size=64)\n",
    "adv_check_images =  attack.generate(x_test)      \n",
    "y_pred = robust_model.predict(adv_check_images)\n",
    "y_pred_classes = np.argmax(y_pred, axis=1)\n",
    "for i in range(43):\n",
    "    class_indices = (y_test == i)\n",
    "    total_count = class_indices.sum()\n",
    "    error_count = (y_test[class_indices] != y_pred_classes[class_indices]).sum()\n",
    "    error_ratio = error_count / total_count\n",
    "    error_ratios.append((i,1-error_ratio))\n",
    "sorted_errors = sorted(error_ratios, key=lambda x: x[1], reverse=False)  \n",
    "for i in range(43):\n",
    "    if sorted_errors[i][1] <= 0.2:\n",
    "        target_class.append(sorted_errors[i][0])"
   ]
  },
  {
   "cell_type": "code",
   "execution_count": 6,
   "metadata": {},
   "outputs": [
    {
     "name": "stdout",
     "output_type": "stream",
     "text": [
      "[0, 1, 2, 3, 4, 5, 6, 9, 10, 11, 12, 13, 14, 15, 16, 17, 18, 19, 20, 21, 22, 23, 24, 25, 26, 28, 29, 30, 31, 32, 33, 34, 35, 37, 38, 40, 41, 42, 39, 7]\n"
     ]
    }
   ],
   "source": [
    "print(target_class)"
   ]
  },
  {
   "cell_type": "code",
   "execution_count": null,
   "metadata": {},
   "outputs": [],
   "source": []
  }
 ],
 "metadata": {
  "kernelspec": {
   "display_name": "Python 3",
   "language": "python",
   "name": "python3"
  },
  "language_info": {
   "codemirror_mode": {
    "name": "ipython",
    "version": 3
   },
   "file_extension": ".py",
   "mimetype": "text/x-python",
   "name": "python",
   "nbconvert_exporter": "python",
   "pygments_lexer": "ipython3",
   "version": "3.6.9"
  }
 },
 "nbformat": 4,
 "nbformat_minor": 4
}
