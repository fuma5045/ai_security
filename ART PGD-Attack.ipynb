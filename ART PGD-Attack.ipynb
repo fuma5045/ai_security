{
 "cells": [
  {
   "cell_type": "code",
   "execution_count": 6,
   "metadata": {},
   "outputs": [],
   "source": [
    "import numpy as np\n",
    "import tensorflow as tf\n",
    "from tensorflow import keras\n",
    "from tensorflow.keras.utils import to_categorical\n",
    "from tensorflow.keras.preprocessing.image import ImageDataGenerator, img_to_array, array_to_img, load_img\n",
    "import numpy as np\n",
    "from sklearn.model_selection import train_test_split\n",
    "from tensorflow.keras.models import Sequential\n",
    "from tensorflow.keras.layers import Input, Dense, Conv2D\n",
    "from tensorflow.keras.layers import MaxPooling2D, GlobalAveragePooling2D, Dropout\n",
    "from tensorflow.keras.layers import Conv2D, MaxPool2D, Dense, Flatten, Dropout\n",
    "tf.compat.v1.disable_eager_execution() #  Eager Execution を無効にする"
   ]
  },
  {
   "cell_type": "markdown",
   "metadata": {},
   "source": [
    "### モデルの作成"
   ]
  },
  {
   "cell_type": "code",
   "execution_count": 7,
   "metadata": {},
   "outputs": [],
   "source": [
    "robust_model = Sequential()\n",
    "robust_model.add(Conv2D(filters=32, kernel_size=3, activation='relu', input_shape=(30,30,3)))\n",
    "robust_model.add(MaxPool2D(pool_size=(2, 2)))\n",
    "robust_model.add(Dropout(rate=0.25))\n",
    "robust_model.add(Conv2D(filters=64, kernel_size=3, activation='relu'))\n",
    "robust_model.add(MaxPool2D(pool_size=(2, 2)))\n",
    "robust_model.add(Dropout(rate=0.25))\n",
    "robust_model.add(Conv2D(filters=64, kernel_size=3, activation='relu'))\n",
    "robust_model.add(Flatten())\n",
    "robust_model.add(Dense(units=64, activation='relu'))\n",
    "robust_model.add(Dense(43, activation='softmax'))\n",
    "# Compiling the model\n",
    "robust_model.compile(\n",
    "     loss='categorical_crossentropy',\n",
    "     optimizer='adam',\n",
    "     metrics=['accuracy'])"
   ]
  },
  {
   "cell_type": "markdown",
   "metadata": {},
   "source": [
    "### モデルをロードする場合は以下のプログラムを実行"
   ]
  },
  {
   "cell_type": "code",
   "execution_count": 8,
   "metadata": {},
   "outputs": [],
   "source": [
    "#モデルを読み込む場合\n",
    "#robust_model = tf.keras.models.load_model(\"モデル名を指定\")"
   ]
  },
  {
   "cell_type": "markdown",
   "metadata": {},
   "source": [
    "### サンプルの取得"
   ]
  },
  {
   "cell_type": "code",
   "execution_count": 9,
   "metadata": {},
   "outputs": [],
   "source": [
    "x_test = np.load('x_test.npy')\n",
    "y_test = np.load('y_test.npy')\n",
    "x_test = x_test/255"
   ]
  },
  {
   "cell_type": "markdown",
   "metadata": {},
   "source": [
    "### PGD-10敵対的サンプルの作成"
   ]
  },
  {
   "cell_type": "code",
   "execution_count": null,
   "metadata": {},
   "outputs": [],
   "source": [
    "from art.attacks.evasion import ProjectedGradientDescent\n",
    "from art.estimators.classification import KerasClassifier\n",
    "classifier = KerasClassifier(model=robust_model, clip_values=(0,1))\n",
    "attack = ProjectedGradientDescent(classifier,eps=(8/255), eps_step=(2/255), max_iter=20, batch_size=64)\n",
    "adv_samples_test = attack.generate(x_test)"
   ]
  },
  {
   "cell_type": "markdown",
   "metadata": {},
   "source": [
    "### 作成した敵対的サンプルの推論"
   ]
  },
  {
   "cell_type": "code",
   "execution_count": null,
   "metadata": {},
   "outputs": [],
   "source": [
    "loss,accuracy = robust_model.evaluate(adv_samples_test, y_test)"
   ]
  }
 ],
 "metadata": {
  "kernelspec": {
   "display_name": "Python 3",
   "language": "python",
   "name": "python3"
  },
  "language_info": {
   "codemirror_mode": {
    "name": "ipython",
    "version": 3
   },
   "file_extension": ".py",
   "mimetype": "text/x-python",
   "name": "python",
   "nbconvert_exporter": "python",
   "pygments_lexer": "ipython3",
   "version": "3.6.9"
  }
 },
 "nbformat": 4,
 "nbformat_minor": 4
}
