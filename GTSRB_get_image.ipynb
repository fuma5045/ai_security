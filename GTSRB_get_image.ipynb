{
 "cells": [
  {
   "cell_type": "code",
   "execution_count": 1,
   "metadata": {},
   "outputs": [],
   "source": [
    "import os\n",
    "import numpy as np\n",
    "import tensorflow as tf\n",
    "from tensorflow import keras\n",
    "from tensorflow.keras.utils import to_categorical\n",
    "from tensorflow.keras.preprocessing.image import ImageDataGenerator, img_to_array, array_to_img, load_img\n",
    "from sklearn.model_selection import train_test_split\n",
    "import pandas as pd"
   ]
  },
  {
   "cell_type": "markdown",
   "metadata": {},
   "source": [
    "### GTSRBトレーニング画像の取得"
   ]
  },
  {
   "cell_type": "code",
   "execution_count": 2,
   "metadata": {},
   "outputs": [],
   "source": [
    "data_dir = '../input/gtsrb-german-traffic-sign'\n",
    "train_path = '../input/gtsrb-german-traffic-sign/Train'\n",
    "test_path = '../input/gtsrb-german-traffic-sign/'\n",
    "IMG_HEIGHT = 30\n",
    "IMG_WIDTH = 30\n",
    "NUM_CATEGORIES = 43 \n",
    "def load_data(data_dir):\n",
    "    images = list()\n",
    "    labels = list()\n",
    "    for category in range(NUM_CATEGORIES):\n",
    "        categories = os.path.join(data_dir, str(category))\n",
    "        for img in os.listdir(categories):\n",
    "            img = load_img(os.path.join(categories, img), target_size=(30, 30))\n",
    "            image = img_to_array(img)\n",
    "            images.append(image)\n",
    "            labels.append(category)\n",
    "    return images, labels\n",
    "images, labels = load_data(train_path)\n",
    "# One hot encoding the labels\n",
    "labels = to_categorical(labels)\n",
    "# Splitting the dataset into training and test set\n",
    "x_train, x_val, y_train, y_val = train_test_split(np.array(images), labels, test_size=0.2)"
   ]
  },
  {
   "cell_type": "markdown",
   "metadata": {},
   "source": [
    "### トレーニング画像、VAL画像の保存"
   ]
  },
  {
   "cell_type": "code",
   "execution_count": 3,
   "metadata": {},
   "outputs": [],
   "source": [
    "np.save('x_train',x_train)\n",
    "np.save('x_val',x_val)\n",
    "np.save('y_train',y_train)\n",
    "np.save('y_val',y_val)"
   ]
  },
  {
   "cell_type": "markdown",
   "metadata": {},
   "source": [
    "### トレーニング画像、VAL画像の読み込み"
   ]
  },
  {
   "cell_type": "code",
   "execution_count": 4,
   "metadata": {},
   "outputs": [],
   "source": [
    "x_train = np.load('x_train.npy')\n",
    "x_val = np.load('x_val.npy')\n",
    "y_train = np.load('y_train.npy')\n",
    "y_val = np.load('y_val.npy')"
   ]
  },
  {
   "cell_type": "markdown",
   "metadata": {},
   "source": [
    "### GTSRBテスト画像の取得"
   ]
  },
  {
   "cell_type": "code",
   "execution_count": 5,
   "metadata": {},
   "outputs": [],
   "source": [
    "Y_test = pd.read_csv(test_path + 'Test.csv')#Y_testにcsvファイルを読み込む\n",
    "test_labels = Y_test[\"ClassId\"].values#正解ラベルを格納\n",
    "test_images = Y_test[\"Path\"].values#画像の取得\n",
    "\n",
    "output = list()\n",
    "for img in test_images:\n",
    "    image = load_img(os.path.join(test_path, img), target_size=(30, 30))\n",
    "    output.append(np.array(image))#画像データを格納\n",
    "x_test=np.array(output)\n",
    "y_test = to_categorical(test_labels)    "
   ]
  },
  {
   "cell_type": "markdown",
   "metadata": {},
   "source": [
    "### テスト画像の保存"
   ]
  },
  {
   "cell_type": "code",
   "execution_count": 6,
   "metadata": {},
   "outputs": [],
   "source": [
    "np.save('x_test',x_test)\n",
    "np.save('y_test',y_test)"
   ]
  },
  {
   "cell_type": "markdown",
   "metadata": {},
   "source": [
    "### テスト画像の読み込み"
   ]
  },
  {
   "cell_type": "code",
   "execution_count": 7,
   "metadata": {},
   "outputs": [],
   "source": [
    "x_test = np.load('x_test.npy')\n",
    "y_test = np.load('y_test.npy')"
   ]
  }
 ],
 "metadata": {
  "kernelspec": {
   "display_name": "Python 3",
   "language": "python",
   "name": "python3"
  },
  "language_info": {
   "codemirror_mode": {
    "name": "ipython",
    "version": 3
   },
   "file_extension": ".py",
   "mimetype": "text/x-python",
   "name": "python",
   "nbconvert_exporter": "python",
   "pygments_lexer": "ipython3",
   "version": "3.6.9"
  }
 },
 "nbformat": 4,
 "nbformat_minor": 4
}
